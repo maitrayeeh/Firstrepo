{
 "cells": [
  {
   "cell_type": "code",
   "execution_count": 1,
   "metadata": {},
   "outputs": [],
   "source": [
    "from IPython.display import clear_output\n",
    "def displayboard(board):\n",
    "    #clear_output()\n",
    "    print(board[1]+'|'+board[2]+'|'+board[3])\n",
    "    print(board[4]+'|'+board[5]+'|'+board[6])\n",
    "    print(board[7]+'|'+board[8]+'|'+board[9])"
   ]
  },
  {
   "cell_type": "code",
   "execution_count": 2,
   "metadata": {},
   "outputs": [],
   "source": [
    "def the_first_board():\n",
    "    return ['0','1','2','3','4','5','6','7','8','9']"
   ]
  },
  {
   "cell_type": "code",
   "execution_count": 3,
   "metadata": {},
   "outputs": [
    {
     "name": "stdout",
     "output_type": "stream",
     "text": [
      "1|2|3\n",
      "4|5|6\n",
      "7|8|9\n"
     ]
    }
   ],
   "source": [
    "board=the_first_board()\n",
    "displayboard(board)"
   ]
  },
  {
   "cell_type": "code",
   "execution_count": 4,
   "metadata": {},
   "outputs": [],
   "source": [
    "def playerselection():\n",
    "    marker=''\n",
    "    while marker!='X' and marker!='O':\n",
    "        marker=input(\"Chose the variable: X or O :\")\n",
    "        \n",
    "    if marker=='X':\n",
    "        return('X','O')\n",
    "    else:\n",
    "        return('O','X')\n",
    "        \n",
    "        \n",
    "  #      player1='X'\n",
    "#     player2='O'\n",
    " #   else:\n",
    "  #      player1='O'\n",
    "   #     player2='X'\n",
    "    #print(f'Player1:{player1}')\n",
    " #   print(f'Player2:{player2}')\n",
    "#  return(player1,player2)'''"
   ]
  },
  {
   "cell_type": "code",
   "execution_count": 5,
   "metadata": {},
   "outputs": [
    {
     "name": "stdout",
     "output_type": "stream",
     "text": [
      "Chose the variable: X or O :O\n"
     ]
    }
   ],
   "source": [
    "p1,p2=playerselection()"
   ]
  },
  {
   "cell_type": "code",
   "execution_count": 6,
   "metadata": {},
   "outputs": [
    {
     "data": {
      "text/plain": [
       "'O'"
      ]
     },
     "execution_count": 6,
     "metadata": {},
     "output_type": "execute_result"
    }
   ],
   "source": [
    "p1"
   ]
  },
  {
   "cell_type": "code",
   "execution_count": 7,
   "metadata": {},
   "outputs": [],
   "source": [
    "def main_board(pos,sym,board):\n",
    "    board[pos]=sym"
   ]
  },
  {
   "cell_type": "code",
   "execution_count": 8,
   "metadata": {},
   "outputs": [
    {
     "data": {
      "text/plain": [
       "['0', '1', '2', '3', '4', '5', '6', '7', '8', '9']"
      ]
     },
     "execution_count": 8,
     "metadata": {},
     "output_type": "execute_result"
    }
   ],
   "source": [
    "board"
   ]
  },
  {
   "cell_type": "code",
   "execution_count": 9,
   "metadata": {},
   "outputs": [],
   "source": [
    "def wincheck(bd,mark):\n",
    "    return ((bd[1]==bd[2]==bd[3]==mark)or\n",
    "    (bd[4]==bd[5]==bd[6]==mark)or\n",
    "    (bd[7]==bd[8]==bd[9]==mark)or\n",
    "    (bd[1]==bd[5]==bd[9]==mark)or\n",
    "    (bd[3]==bd[5]==bd[7]==mark)or\n",
    "    (bd[1]==bd[4]==bd[7]==mark)or\n",
    "    (bd[2]==bd[5]==bd[8]==mark)or\n",
    "    (bd[3]==bd[6]==bd[9]==mark))\n",
    "        "
   ]
  },
  {
   "cell_type": "code",
   "execution_count": 10,
   "metadata": {},
   "outputs": [],
   "source": [
    "import random\n",
    "\n",
    "def checkfirst():\n",
    "    flip=random.randint(0,1)\n",
    "    if flip==0:\n",
    "        return 'player1'\n",
    "    else:\n",
    "        return 'player2'"
   ]
  },
  {
   "cell_type": "code",
   "execution_count": 11,
   "metadata": {},
   "outputs": [],
   "source": [
    "def emptyboard(board,pos):\n",
    "    return board[pos] == ' '"
   ]
  },
  {
   "cell_type": "code",
   "execution_count": 12,
   "metadata": {},
   "outputs": [],
   "source": [
    "def fullboard(board):\n",
    "    for i in range(1,10):\n",
    "        if emptyboard(board,i):\n",
    "            return False\n",
    "        \n",
    "    return True"
   ]
  },
  {
   "cell_type": "code",
   "execution_count": null,
   "metadata": {},
   "outputs": [],
   "source": []
  },
  {
   "cell_type": "code",
   "execution_count": 13,
   "metadata": {},
   "outputs": [],
   "source": [
    "def possel(board):\n",
    "\n",
    "    pos=0\n",
    "    while pos not in [1,2,3,4,5,6,7,8,9]: #or not emptyboard(board,pos):\n",
    "        pos=int(input('Enter your position:(1-9) '))\n",
    "    return pos"
   ]
  },
  {
   "cell_type": "code",
   "execution_count": 14,
   "metadata": {},
   "outputs": [
    {
     "name": "stdout",
     "output_type": "stream",
     "text": [
      "Enter your position:(1-9) 8\n"
     ]
    },
    {
     "data": {
      "text/plain": [
       "8"
      ]
     },
     "execution_count": 14,
     "metadata": {},
     "output_type": "execute_result"
    }
   ],
   "source": [
    "possel(board)"
   ]
  },
  {
   "cell_type": "code",
   "execution_count": 15,
   "metadata": {},
   "outputs": [],
   "source": [
    "def replay():\n",
    "    choice=input('Want to play again? yes or no :')\n",
    "    return choice=='yes'"
   ]
  },
  {
   "cell_type": "code",
   "execution_count": null,
   "metadata": {},
   "outputs": [
    {
     "name": "stdout",
     "output_type": "stream",
     "text": [
      "Welcome to tic tac toe\n",
      "The position of the numbers in the tic toc toe is shown:\n",
      "1|2|3\n",
      "4|5|6\n",
      "7|8|9\n",
      "Chose the variable: X or O :X\n",
      "player2 will go first\n",
      "Ready to play game? y or n? y\n",
      " | | \n",
      " | | \n",
      " | | \n",
      "Enter your position:(1-9) 8\n",
      " | | \n",
      " | | \n",
      " |O| \n",
      "Enter your position:(1-9) 0\n",
      "Enter your position:(1-9) 7\n",
      " | | \n",
      " | | \n",
      "X|O| \n",
      "Enter your position:(1-9) 4\n",
      " | | \n",
      "O| | \n",
      "X|O| \n",
      "Enter your position:(1-9) 5\n",
      " | | \n",
      "O|X| \n",
      "X|O| \n",
      "Enter your position:(1-9) 2\n",
      " |O| \n",
      "O|X| \n",
      "X|O| \n",
      "Enter your position:(1-9) 3\n",
      " |O|X\n",
      "O|X| \n",
      "X|O| \n",
      "Player 1 has won \n"
     ]
    }
   ],
   "source": [
    "#def mainfunction():\n",
    "    #while loop to play again\n",
    "\n",
    "print('Welcome to tic tac toe')\n",
    "print('The position of the numbers in the tic toc toe is shown:')\n",
    "board=the_first_board()\n",
    "displayboard(board)\n",
    "while True:\n",
    "    first_board=[' ']*10\n",
    "    p1,p2=playerselection()\n",
    "    \n",
    "    turn=checkfirst()\n",
    "    print(turn + ' will go first')\n",
    "    \n",
    "    ready=input('Ready to play game? y or n? ')\n",
    "    if ready=='y':\n",
    "        game_on=True\n",
    "    else: \n",
    "        game_on=False\n",
    "    \n",
    "    while game_on:\n",
    "        if turn=='player1':\n",
    "            displayboard(first_board)\n",
    "            pos=possel(first_board)\n",
    "            main_board(pos,p1,first_board) \n",
    "            if wincheck(first_board,p1):\n",
    "                displayboard(first_board)\n",
    "                print('Player 1 has won ')\n",
    "                game_on=False\n",
    "            else:\n",
    "                if fullboard(first_board):\n",
    "                    display(first_board)\n",
    "                    print('Tie game')\n",
    "                    game_on=False\n",
    "                else:\n",
    "                    turn='player2'\n",
    "        else:\n",
    "            displayboard(first_board)\n",
    "            pos=possel(first_board)\n",
    "            main_board(pos,p2,first_board) \n",
    "            if wincheck(first_board,p2):\n",
    "                displayboard(first_board)\n",
    "                print('Player 2 has won ')\n",
    "                game_on=False\n",
    "            else:\n",
    "                if fullboard(first_board):\n",
    "                    display(first_board)\n",
    "                    print('Tie game')\n",
    "                    game_on=False\n",
    "                else:\n",
    "                    turn='player1'\n",
    "                \n",
    "    if not replay():\n",
    "        break\n",
    "\n",
    "#to break out if we don't want to play\n"
   ]
  },
  {
   "cell_type": "markdown",
   "metadata": {},
   "source": []
  },
  {
   "cell_type": "code",
   "execution_count": null,
   "metadata": {},
   "outputs": [],
   "source": []
  }
 ],
 "metadata": {
  "kernelspec": {
   "display_name": "Python 3",
   "language": "python",
   "name": "python3"
  },
  "language_info": {
   "codemirror_mode": {
    "name": "ipython",
    "version": 3
   },
   "file_extension": ".py",
   "mimetype": "text/x-python",
   "name": "python",
   "nbconvert_exporter": "python",
   "pygments_lexer": "ipython3",
   "version": "3.7.6"
  }
 },
 "nbformat": 4,
 "nbformat_minor": 4
}
